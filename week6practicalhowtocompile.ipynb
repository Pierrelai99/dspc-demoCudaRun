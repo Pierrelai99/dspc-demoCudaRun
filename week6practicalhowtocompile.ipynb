{
  "nbformat": 4,
  "nbformat_minor": 0,
  "metadata": {
    "colab": {
      "provenance": [],
      "authorship_tag": "ABX9TyMjxvtwlQ28La+4M9QJL5+s",
      "include_colab_link": true
    },
    "kernelspec": {
      "name": "python3",
      "display_name": "Python 3"
    },
    "language_info": {
      "name": "python"
    }
  },
  "cells": [
    {
      "cell_type": "markdown",
      "metadata": {
        "id": "view-in-github",
        "colab_type": "text"
      },
      "source": [
        "<a href=\"https://colab.research.google.com/github/Pierrelai99/dspc-demoCudaRun/blob/blockchain/week6practicalhowtocompile.ipynb\" target=\"_parent\"><img src=\"https://colab.research.google.com/assets/colab-badge.svg\" alt=\"Open In Colab\"/></a>"
      ]
    },
    {
      "cell_type": "code",
      "source": [],
      "metadata": {
        "id": "upuoZeVJ_YIV"
      },
      "execution_count": null,
      "outputs": []
    },
    {
      "cell_type": "code",
      "execution_count": 10,
      "metadata": {
        "colab": {
          "base_uri": "https://localhost:8080/",
          "height": 0
        },
        "id": "ZG2v0igN-qvk",
        "outputId": "4827c365-79f5-4680-8622-ceaee194a867"
      },
      "outputs": [
        {
          "output_type": "stream",
          "name": "stdout",
          "text": [
            "Overwriting hello_world.cpp\n"
          ]
        }
      ],
      "source": [
        "%%writefile hello_world.cpp\n",
        "#include <iostream>\n",
        "#include \"add.h\"\n",
        "\n",
        "using namespace std;\n",
        "int main() {\n",
        "    cout<< \"Hello Pierre\" << endl;\n",
        "    cout << \" 3+5 is\" << add(3,5.5) << endl;\n",
        "    return 0;\n",
        "}"
      ]
    },
    {
      "cell_type": "code",
      "source": [
        "%%writefile add.h\n",
        "#pragma once\n",
        "double add(double a, double b);"
      ],
      "metadata": {
        "colab": {
          "base_uri": "https://localhost:8080/",
          "height": 0
        },
        "id": "-18m4AHFAzlN",
        "outputId": "2d6309b1-1aad-4412-fc8c-28c613f1ed3f"
      },
      "execution_count": 11,
      "outputs": [
        {
          "output_type": "stream",
          "name": "stdout",
          "text": [
            "Writing add.h\n"
          ]
        }
      ]
    },
    {
      "cell_type": "code",
      "source": [
        "%%writefile add.cpp\n",
        "double add(double a, double b){\n",
        "  return a + b;\n",
        "}"
      ],
      "metadata": {
        "colab": {
          "base_uri": "https://localhost:8080/",
          "height": 0
        },
        "id": "GaMYD6B0AOKd",
        "outputId": "cce2e866-8552-4f51-92d2-da6cb974420b"
      },
      "execution_count": 12,
      "outputs": [
        {
          "output_type": "stream",
          "name": "stdout",
          "text": [
            "Overwriting add.cpp\n"
          ]
        }
      ]
    },
    {
      "cell_type": "code",
      "source": [
        "!g++ -o hello_world hello_world.cpp add.cpp"
      ],
      "metadata": {
        "id": "N7OLmDtU_IPV"
      },
      "execution_count": 13,
      "outputs": []
    },
    {
      "cell_type": "code",
      "source": [
        "!./hello_world"
      ],
      "metadata": {
        "colab": {
          "base_uri": "https://localhost:8080/",
          "height": 0
        },
        "id": "sdvX-NDX_nXk",
        "outputId": "05607af5-2bf9-42fc-a5f6-a1f518b75438"
      },
      "execution_count": 14,
      "outputs": [
        {
          "output_type": "stream",
          "name": "stdout",
          "text": [
            "Hello Pierre\n",
            " 3+5 is8.5\n"
          ]
        }
      ]
    },
    {
      "cell_type": "code",
      "source": [
        "%%writefile malloc.cpp\n",
        "#include <stdio.h>\n",
        "#include <malloc.h>\n",
        "\n",
        "\n",
        "#define SIZE 1024\n",
        "\n",
        "void VectorAdd(int *a, int *b, int *c, int n) {\n",
        "     int i;\n",
        "\n",
        "     for (i = 0; i < n; ++i)\n",
        "          c[i] = a[i] + b[i];\n",
        "}\n",
        "\n",
        "int serial_vector_add() {\n",
        "     int *a, *b, *c;\n",
        "\n",
        "     a = (int *)malloc(SIZE * sizeof(int));\n",
        "     b = (int *)malloc(SIZE * sizeof(int));\n",
        "     c = (int *)malloc(SIZE * sizeof(int));\n",
        "\n",
        "     for (int i = 0; i < SIZE; ++i)\n",
        "     {\n",
        "          a[i] = i;\n",
        "          b[i] = i;\n",
        "          c[i] = 0;\n",
        "     }\n",
        "\n",
        "     VectorAdd(a, b, c, SIZE);\n",
        "\n",
        "          for (int i = 0; i < 10; ++i) {\n",
        "               printf(\"c[%d]=%d\\n\",i,c[i]);\n",
        "          }\n",
        "\n",
        "     free(a);\n",
        "     free(b);\n",
        "     free(c);\n",
        "     return 0;\n",
        "\n",
        "}"
      ],
      "metadata": {
        "colab": {
          "base_uri": "https://localhost:8080/"
        },
        "id": "rZxBcGyYB6nd",
        "outputId": "07f37e96-c257-46a0-e621-f068afccdac3"
      },
      "execution_count": 21,
      "outputs": [
        {
          "output_type": "stream",
          "name": "stdout",
          "text": [
            "Overwriting malloc.cpp\n"
          ]
        }
      ]
    },
    {
      "cell_type": "code",
      "source": [
        "%%writefile malloc.h\n",
        "#pragma once\n",
        "int serial_vector_add();"
      ],
      "metadata": {
        "colab": {
          "base_uri": "https://localhost:8080/"
        },
        "id": "6TCIvDH_CTUV",
        "outputId": "1a058f28-e1f5-419b-c35b-30194ad3884f"
      },
      "execution_count": 22,
      "outputs": [
        {
          "output_type": "stream",
          "name": "stdout",
          "text": [
            "Writing malloc.h\n"
          ]
        }
      ]
    },
    {
      "cell_type": "code",
      "source": [
        "%%writefile vectorAdd.cpp\n",
        "#include <iostream>\n",
        "#include \"malloc.h\"\n",
        "\n",
        "int main() {\n",
        "  serial_vector_add();\n",
        "}"
      ],
      "metadata": {
        "colab": {
          "base_uri": "https://localhost:8080/"
        },
        "id": "nyCzIIgXCsEF",
        "outputId": "d47efa19-9cc9-43ad-9881-90d3bafbf6ab"
      },
      "execution_count": 23,
      "outputs": [
        {
          "output_type": "stream",
          "name": "stdout",
          "text": [
            "Overwriting vectorAdd.cpp\n"
          ]
        }
      ]
    },
    {
      "cell_type": "code",
      "source": [
        "!nvcc malloc.cpp vectorAdd.cpp -o vectorAdd"
      ],
      "metadata": {
        "id": "feSaRSu3DfJc"
      },
      "execution_count": 24,
      "outputs": []
    },
    {
      "cell_type": "code",
      "source": [
        "!./vectorAdd"
      ],
      "metadata": {
        "colab": {
          "base_uri": "https://localhost:8080/"
        },
        "id": "xf9-cudzEAOF",
        "outputId": "366e9eaf-7807-44d4-c1be-ae275ed74df7"
      },
      "execution_count": 25,
      "outputs": [
        {
          "output_type": "stream",
          "name": "stdout",
          "text": [
            "c[0]=0\n",
            "c[1]=2\n",
            "c[2]=4\n",
            "c[3]=6\n",
            "c[4]=8\n",
            "c[5]=10\n",
            "c[6]=12\n",
            "c[7]=14\n",
            "c[8]=16\n",
            "c[9]=18\n"
          ]
        }
      ]
    }
  ]
}